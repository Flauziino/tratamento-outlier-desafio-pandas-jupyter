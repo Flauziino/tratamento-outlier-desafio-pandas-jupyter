{
 "cells": [
  {
   "cell_type": "markdown",
   "metadata": {},
   "source": [
    "# Desafio Outliers\n",
    "\n",
    "Desafio de analise de dados.\n",
    "\n",
    "A lista de dados contem 3 colunas: \"order_id\", \"date\" e \"revenue\"\n",
    "\n",
    "A coluna revenue contem outliers, valores discrepantes, que são valores abaixo do minimo \"1\" e acima do maximo \"99\".\n",
    "\n",
    "O Desafio é eliminar esses valores, sera feito da seguinte forma:\n",
    "+ Encontrar os outliers (abaixo de 1 e acima de 99);\n",
    "+ Encontrar os valores minimos aceitaveis (acima de 1 e abaixo de 99);\n",
    "+ Substituir os outliers pelos valores aceitaveis."
   ]
  },
  {
   "cell_type": "markdown",
   "metadata": {},
   "source": [
    "### importando as ferramentas importantes\n",
    "\n",
    "Em nosso caso, sera preciso apenas o Pandas e o Jupyter Nootebook"
   ]
  },
  {
   "cell_type": "code",
   "execution_count": 2,
   "metadata": {},
   "outputs": [],
   "source": [
    "import pandas as pd"
   ]
  },
  {
   "cell_type": "markdown",
   "metadata": {},
   "source": [
    "Agora, vamos extrair nossa base de dados (data.csv)"
   ]
  },
  {
   "cell_type": "code",
   "execution_count": 3,
   "metadata": {},
   "outputs": [],
   "source": [
    "# df sera o nome dado ao arquivo\n",
    "df = pd.read_csv(\n",
    "    \"D:\\\\Otas paradas V\\\\projetos e afins\\\\analise-outlier\\\\data.csv\"\n",
    ")"
   ]
  },
  {
   "cell_type": "markdown",
   "metadata": {},
   "source": [
    "Checando se tudo ocorreu como esperado"
   ]
  },
  {
   "cell_type": "code",
   "execution_count": 4,
   "metadata": {},
   "outputs": [
    {
     "data": {
      "text/html": [
       "<div>\n",
       "<style scoped>\n",
       "    .dataframe tbody tr th:only-of-type {\n",
       "        vertical-align: middle;\n",
       "    }\n",
       "\n",
       "    .dataframe tbody tr th {\n",
       "        vertical-align: top;\n",
       "    }\n",
       "\n",
       "    .dataframe thead th {\n",
       "        text-align: right;\n",
       "    }\n",
       "</style>\n",
       "<table border=\"1\" class=\"dataframe\">\n",
       "  <thead>\n",
       "    <tr style=\"text-align: right;\">\n",
       "      <th></th>\n",
       "      <th>order_id</th>\n",
       "      <th>date</th>\n",
       "      <th>revenue</th>\n",
       "    </tr>\n",
       "  </thead>\n",
       "  <tbody>\n",
       "    <tr>\n",
       "      <th>0</th>\n",
       "      <td>id0001</td>\n",
       "      <td>2018-02-22</td>\n",
       "      <td>88.68</td>\n",
       "    </tr>\n",
       "    <tr>\n",
       "      <th>1</th>\n",
       "      <td>id0002</td>\n",
       "      <td>2018-03-04</td>\n",
       "      <td>11.85</td>\n",
       "    </tr>\n",
       "    <tr>\n",
       "      <th>2</th>\n",
       "      <td>id0003</td>\n",
       "      <td>2017-10-29</td>\n",
       "      <td>91.57</td>\n",
       "    </tr>\n",
       "    <tr>\n",
       "      <th>3</th>\n",
       "      <td>id0004</td>\n",
       "      <td>2015-01-26</td>\n",
       "      <td>74.41</td>\n",
       "    </tr>\n",
       "    <tr>\n",
       "      <th>4</th>\n",
       "      <td>id0005</td>\n",
       "      <td>2017-04-29</td>\n",
       "      <td>85.30</td>\n",
       "    </tr>\n",
       "  </tbody>\n",
       "</table>\n",
       "</div>"
      ],
      "text/plain": [
       "  order_id        date  revenue\n",
       "0   id0001  2018-02-22    88.68\n",
       "1   id0002  2018-03-04    11.85\n",
       "2   id0003  2017-10-29    91.57\n",
       "3   id0004  2015-01-26    74.41\n",
       "4   id0005  2017-04-29    85.30"
      ]
     },
     "execution_count": 4,
     "metadata": {},
     "output_type": "execute_result"
    }
   ],
   "source": [
    "df.head(5)"
   ]
  },
  {
   "cell_type": "markdown",
   "metadata": {},
   "source": [
    "Definindo os valores minimos"
   ]
  },
  {
   "cell_type": "code",
   "execution_count": 10,
   "metadata": {},
   "outputs": [],
   "source": [
    "minimum_limit = 1\n",
    "maximum_limit = 99"
   ]
  },
  {
   "cell_type": "markdown",
   "metadata": {},
   "source": [
    "Capturando os outliers (abaixo de 1 e acima de 99)"
   ]
  },
  {
   "cell_type": "code",
   "execution_count": 12,
   "metadata": {},
   "outputs": [],
   "source": [
    "below_minimun_limit = df.loc[\n",
    "    df['revenue'] < minimum_limit\n",
    "    ]\n",
    "\n",
    "above_maximum_limit = df.loc[\n",
    "    df['revenue'] > maximum_limit\n",
    "    ]"
   ]
  },
  {
   "cell_type": "markdown",
   "metadata": {},
   "source": [
    "Checando se tudo ocorreu como esperado"
   ]
  },
  {
   "cell_type": "code",
   "execution_count": 15,
   "metadata": {},
   "outputs": [
    {
     "name": "stdout",
     "output_type": "stream",
     "text": [
      "Os valores abaixo do limite sao: \n",
      "    order_id        date  revenue\n",
      "116   id0117  2018-10-24     0.36\n",
      "227   id0228  2018-07-10     0.82\n",
      "299   id0300  2015-04-13     0.83\n",
      "684   id0685  2016-01-01     0.93\n",
      "810   id0811  2017-07-30     0.86\n",
      "833   id0834  2019-06-01     0.11\n",
      "879   id0880  2018-03-08     0.88\n",
      "913   id0914  2015-07-22     0.76\n",
      "Os valores acima do limite sao: \n",
      "    order_id        date  revenue\n",
      "31    id0032  2016-04-02    99.68\n",
      "300   id0301  2016-10-10    99.19\n",
      "355   id0356  2018-02-19    99.28\n",
      "376   id0377  2016-01-11    99.32\n",
      "504   id0505  2020-08-21    99.90\n",
      "526   id0527  2020-08-18    99.17\n",
      "533   id0534  2019-01-07    99.55\n",
      "689   id0690  2015-04-19    99.29\n",
      "803   id0804  2019-09-17    99.67\n",
      "832   id0833  2018-06-26    99.54\n",
      "931   id0932  2015-01-13    99.23\n"
     ]
    }
   ],
   "source": [
    "print(f'Os valores abaixo do limite sao: \\n{below_minimun_limit}')\n",
    "print(f'Os valores acima do limite sao: \\n{above_maximum_limit}')"
   ]
  },
  {
   "cell_type": "markdown",
   "metadata": {},
   "source": [
    "Vamos agora achar o menor valor aceitavel (acima de 1) e o maior valor aceitavel (abaixo de 99)"
   ]
  },
  {
   "cell_type": "code",
   "execution_count": 37,
   "metadata": {},
   "outputs": [
    {
     "name": "stdout",
     "output_type": "stream",
     "text": [
      "1.17\n",
      "98.88\n"
     ]
    }
   ],
   "source": [
    "min_value = df[\n",
    "    df['revenue'] > minimum_limit\n",
    "    ]['revenue'].min()\n",
    "\n",
    "max_value = df[\n",
    "    df['revenue'] < maximum_limit\n",
    "    ]['revenue'].max()\n",
    "\n",
    "print(min_value)\n",
    "print(max_value)"
   ]
  },
  {
   "cell_type": "markdown",
   "metadata": {},
   "source": [
    "Agora sabemos os valores aceitaveis (minimo e maximo).\n",
    "\n",
    "Tem-se 1.17 para min, 98.88 para max.\n",
    "\n",
    "Vamos agora substituir esses valores nos outliers (abaixo de 1 recebe 1.17, acima de 99 recebe 98.88)."
   ]
  },
  {
   "cell_type": "code",
   "execution_count": 38,
   "metadata": {},
   "outputs": [
    {
     "name": "stdout",
     "output_type": "stream",
     "text": [
      "O total de outliers antes de substituir: 19\n"
     ]
    }
   ],
   "source": [
    "total_outliers = below_minimun_limit.count() + above_maximum_limit.count()\n",
    "print(\n",
    "    f'O total de outliers antes de substituir: {total_outliers[\"revenue\"]}'\n",
    "    )"
   ]
  },
  {
   "cell_type": "code",
   "execution_count": 51,
   "metadata": {},
   "outputs": [],
   "source": [
    "df.loc[\n",
    "    df['revenue'] < minimum_limit, 'revenue'\n",
    "    ] = min_value\n",
    "\n",
    "df.loc[\n",
    "    df['revenue'] > maximum_limit, 'revenue'\n",
    "    ] = max_value\n"
   ]
  },
  {
   "cell_type": "markdown",
   "metadata": {},
   "source": [
    "Sera realizado algumas checagens para ver se tudo ocorreu como esperado"
   ]
  },
  {
   "cell_type": "code",
   "execution_count": 52,
   "metadata": {},
   "outputs": [
    {
     "name": "stdout",
     "output_type": "stream",
     "text": [
      "O total de outliers depois de substituir: 0\n"
     ]
    }
   ],
   "source": [
    "total_outliers = (df['revenue'] < minimum_limit).sum() + (df['revenue'] > maximum_limit).sum()\n",
    "\n",
    "print(\n",
    "    f'O total de outliers depois de substituir: {total_outliers}'\n",
    "    )"
   ]
  },
  {
   "cell_type": "code",
   "execution_count": 53,
   "metadata": {},
   "outputs": [
    {
     "name": "stdout",
     "output_type": "stream",
     "text": [
      "SUCESSO!!! Todos os outliers foram tratados\n"
     ]
    }
   ],
   "source": [
    "if (df['revenue'] < minimum_limit).any() or (df['revenue'] > maximum_limit).any():\n",
    "    print('ERROR!!! Ainda existem outliers')\n",
    "else:\n",
    "    print('SUCESSO!!! Todos os outliers foram tratados')"
   ]
  },
  {
   "cell_type": "markdown",
   "metadata": {},
   "source": [
    "Vamos agora substituir os valores tratados em um novo dataset"
   ]
  },
  {
   "cell_type": "code",
   "execution_count": 54,
   "metadata": {},
   "outputs": [],
   "source": [
    "df.to_csv(\n",
    "    \"D:\\\\Otas paradas V\\\\projetos e afins\\\\analise-outlier\\\\new_data.csv\",\n",
    "    index=False\n",
    ")"
   ]
  },
  {
   "cell_type": "markdown",
   "metadata": {},
   "source": [
    "Por fim, sera checado se o novo dataset teve seus valores substituidos como esperado"
   ]
  },
  {
   "cell_type": "code",
   "execution_count": 55,
   "metadata": {},
   "outputs": [],
   "source": [
    "new_data = pd.read_csv(\n",
    "    \"D:\\\\Otas paradas V\\\\projetos e afins\\\\analise-outlier\\\\new_data.csv\"\n",
    ")"
   ]
  },
  {
   "cell_type": "code",
   "execution_count": 56,
   "metadata": {},
   "outputs": [
    {
     "name": "stdout",
     "output_type": "stream",
     "text": [
      "SUCESSO!!! Nao existem outliers no novo dataset\n"
     ]
    }
   ],
   "source": [
    "if (new_data['revenue'] < minimum_limit).any() or (new_data['revenue'] > maximum_limit).any():\n",
    "    print('ERROR!!! Ainda existem outliers')\n",
    "else:\n",
    "    print('SUCESSO!!! Nao existem outliers no novo dataset')"
   ]
  }
 ],
 "metadata": {
  "kernelspec": {
   "display_name": "venv",
   "language": "python",
   "name": "python3"
  },
  "language_info": {
   "codemirror_mode": {
    "name": "ipython",
    "version": 3
   },
   "file_extension": ".py",
   "mimetype": "text/x-python",
   "name": "python",
   "nbconvert_exporter": "python",
   "pygments_lexer": "ipython3",
   "version": "3.11.3"
  }
 },
 "nbformat": 4,
 "nbformat_minor": 2
}
